{
 "cells": [
  {
   "cell_type": "code",
   "execution_count": 1,
   "id": "b39a9bc1",
   "metadata": {},
   "outputs": [],
   "source": [
    "import pandas as pd\n",
    "import numpy as np\n",
    "import pyBigWig\n",
    "import glob"
   ]
  },
  {
   "cell_type": "markdown",
   "id": "2141c6e9",
   "metadata": {},
   "source": [
    "## Setup"
   ]
  },
  {
   "cell_type": "markdown",
   "id": "83dc596d",
   "metadata": {},
   "source": [
    "Cell types of Interest:\n",
    "- CLAGL\n",
    "- D1MSN\n",
    "- D2MSN\n",
    "- ITL6GL\n",
    "- D1MSN + D2MSN\n",
    "- NPGL\n",
    "- PTGL\n",
    "- PVGA\n",
    "- SSTGA\n",
    "- VIPGA"
   ]
  },
  {
   "cell_type": "code",
   "execution_count": 3,
   "id": "172be939",
   "metadata": {},
   "outputs": [],
   "source": [
    "cell_types = ['CLAGL', 'D1MSN', 'D2MSN', 'ITL6GL', 'D1MSN', 'D2MSN', 'NPGL', 'PTGL', 'PVGA', 'SSTGA', 'VIPGA']"
   ]
  },
  {
   "cell_type": "code",
   "execution_count": 4,
   "id": "e3118f2f",
   "metadata": {},
   "outputs": [],
   "source": [
    "peaks = glob.glob('/oak/stanford/groups/akundaje/projects/aav/narrowpeaks/*')"
   ]
  },
  {
   "cell_type": "code",
   "execution_count": 5,
   "id": "b3171d58",
   "metadata": {},
   "outputs": [],
   "source": [
    "def get_beds_path(cell_types, peaks):\n",
    "    beds = {}\n",
    "    for ct in cell_types:\n",
    "        beds[ct] = [peak for peak in peaks if ct in peak]\n",
    "    return beds"
   ]
  },
  {
   "cell_type": "code",
   "execution_count": 6,
   "id": "147b81f8",
   "metadata": {},
   "outputs": [
    {
     "name": "stdout",
     "output_type": "stream",
     "text": [
      "Cell type       #\n",
      "CLAGL\t\t3\n",
      "D1MSN\t\t5\n",
      "D2MSN\t\t4\n",
      "ITL6GL\t\t6\n",
      "NPGL\t\t5\n",
      "PTGL\t\t8\n",
      "PVGA\t\t7\n",
      "SSTGA\t\t10\n",
      "VIPGA\t\t4\n"
     ]
    }
   ],
   "source": [
    "beds = get_beds_path(cell_types, peaks)\n",
    "print(\"Cell type       #\")\n",
    "for bed in beds.keys():\n",
    "    print(f\"{bed}\\t\\t{len(beds[bed])}\")"
   ]
  },
  {
   "cell_type": "markdown",
   "id": "71713795",
   "metadata": {},
   "source": [
    "## Merge Peak files"
   ]
  },
  {
   "cell_type": "code",
   "execution_count": null,
   "id": "35582ae3",
   "metadata": {},
   "outputs": [],
   "source": [
    "def merge_peaks(path_list):\n",
    "    dfs = []\n",
    "    for bed in path_list:\n",
    "        dfs.append(pd.read_csv(bed, delimiter = \"\\t\", names = [\"chrom\", \"start\", \"end\", \"i\"]))\n",
    "    df = pd.concat(dfs, axis = 0)\n",
    "    df = df.groupby(by = \"i\", as_index = False).first().sort_values(['chrom', 'start'])\n",
    "    return df"
   ]
  },
  {
   "cell_type": "code",
   "execution_count": null,
   "id": "1775a8d2",
   "metadata": {},
   "outputs": [],
   "source": [
    "for bed in beds.keys():\n",
    "    print(f\"-------------Current peakfile: {bed}-------------\")\n",
    "    merged_peaks = merge_peaks(beds[bed])\n",
    "    merged_peaks.to_csv('/oak/stanford/groups/akundaje/projects/aav/merged_peaks/'+bed+'.bed', \\\n",
    "                        columns = [\"chrom\", \"start\", \"end\", \"i\"], sep = '\\t', header = False, index = False)"
   ]
  },
  {
   "cell_type": "markdown",
   "id": "a592208c",
   "metadata": {},
   "source": [
    "## Convert bed -> narrowPeak"
   ]
  },
  {
   "cell_type": "code",
   "execution_count": null,
   "id": "6c1c90e2",
   "metadata": {},
   "outputs": [],
   "source": [
    "def bed_to_narrowpeak(df): \n",
    "    for i in range(4, 8):\n",
    "        df[i] = '.'\n",
    "    #get max in corresponding bw as qValue\n",
    "    bw_path = peakfile[:43]+\"bigwigs/\"+peakfile.split('/')[-1].split('.')[0]+\".bw\"\n",
    "    print(f\"----------Doing {bw_path}--------\")\n",
    "    bw = pyBigWig.open(bw_path)\n",
    "    qvalues = []\n",
    "    for row in df.iterrows():\n",
    "        chr, start, stop = row[1].iloc[0], row[1].iloc[1], row[1].iloc[2]\n",
    "        qvalues.append(max(bw.values(chr, start, stop)))\n",
    "    df[8] = qvalues\n",
    "    #summit in the center w. offset\n",
    "    df[9] = (df[2] - df[1])//2\n",
    "    return df"
   ]
  },
  {
   "cell_type": "code",
   "execution_count": null,
   "id": "a4d95723",
   "metadata": {},
   "outputs": [],
   "source": [
    "for bed in beds.keys():\n",
    "    print(f\"-------------Current cell type: {bed}-------------\")\n",
    "    for peakfile in beds[bed]:\n",
    "        print(f\"-------------Current peakfile: {peakfile}  \")\n",
    "        df = pd.read_csv(peakfile, delimiter = \"\\t\", names = [0, 1, 2, 3])\n",
    "        df = bed_to_narrowpeak(df) \n",
    "        o_dir = peakfile[:43]+'merged_narropeaks/'+peakfile.split('/')[-1].split('.')[0]+'.bed'\n",
    "        df.to_csv(o_dir, sep = '\\t', header = False, index = False)"
   ]
  },
  {
   "cell_type": "markdown",
   "id": "4f918385-12c0-4c3d-8895-8c3ccb5ea70d",
   "metadata": {},
   "source": [
    "## Merge narrowPeak files"
   ]
  },
  {
   "cell_type": "code",
   "execution_count": 8,
   "id": "fd4c0b65-6285-4e23-bd21-9a378974825f",
   "metadata": {},
   "outputs": [],
   "source": [
    "def merge_peaks(path_list):\n",
    "    dfs = []\n",
    "    for bed in path_list:\n",
    "        dfs.append(pd.read_csv(bed, delimiter = \"\\t\", names = [\"chrom\", \"start\", \"end\", \"i\", \"u1\", \"u2\", \"u3\", \"u4\", \"qvalue\", \"summit\"]))\n",
    "    df = pd.concat(dfs, axis = 0)\n",
    "    df = df.groupby(by = \"i\", as_index = False).first().sort_values(['chrom', 'start'])\n",
    "    return df"
   ]
  },
  {
   "cell_type": "code",
   "execution_count": 9,
   "id": "b1f7a521-a9cd-4e66-9526-5d786169d979",
   "metadata": {},
   "outputs": [
    {
     "name": "stdout",
     "output_type": "stream",
     "text": [
      "-------------Current peakfile: CLAGL-------------\n",
      "-------------Current peakfile: D1MSN-------------\n",
      "-------------Current peakfile: D2MSN-------------\n",
      "-------------Current peakfile: ITL6GL-------------\n",
      "-------------Current peakfile: NPGL-------------\n",
      "-------------Current peakfile: PTGL-------------\n",
      "-------------Current peakfile: PVGA-------------\n",
      "-------------Current peakfile: SSTGA-------------\n",
      "-------------Current peakfile: VIPGA-------------\n"
     ]
    }
   ],
   "source": [
    "for bed in beds.keys():\n",
    "    print(f\"-------------Current peakfile: {bed}-------------\")\n",
    "    merged_peaks = merge_peaks(beds[bed])\n",
    "    merged_peaks.to_csv('/oak/stanford/groups/akundaje/projects/aav/merged_narrowpeaks/'+bed+'.bed', \\\n",
    "                        columns = [\"chrom\", \"start\", \"end\", \"i\", \"u1\", \"u2\", \"u3\", \"u4\", \"qvalue\", \"summit\"], sep = '\\t', header = False, index = False)"
   ]
  }
 ],
 "metadata": {
  "kernelspec": {
   "display_name": "Python 3",
   "language": "python",
   "name": "python3"
  },
  "language_info": {
   "codemirror_mode": {
    "name": "ipython",
    "version": 3
   },
   "file_extension": ".py",
   "mimetype": "text/x-python",
   "name": "python",
   "nbconvert_exporter": "python",
   "pygments_lexer": "ipython3",
   "version": "3.7.10"
  }
 },
 "nbformat": 4,
 "nbformat_minor": 5
}
