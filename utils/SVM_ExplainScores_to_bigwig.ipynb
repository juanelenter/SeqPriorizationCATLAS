{
 "cells": [
  {
   "cell_type": "code",
   "execution_count": 4,
   "id": "772c76e8",
   "metadata": {},
   "outputs": [],
   "source": [
    "import numpy as np\n",
    "import matplotlib.pyplot as plt\n",
    "from scipy import stats\n",
    "import pyBigWig"
   ]
  },
  {
   "cell_type": "code",
   "execution_count": 9,
   "id": "715aa0f9",
   "metadata": {},
   "outputs": [
    {
     "name": "stdout",
     "output_type": "stream",
     "text": [
      "chr14\t32460567\t32461717\tcCREs144340\r\n",
      "chr11\t90722232\t90722963\tcCREs85014\r\n",
      "chr15\t21631167\t21631680\tcCREs164573\r\n",
      "chr10\t13228856\t13229395\tcCREs41799\r\n",
      "chr16\t29904342\t29904857\tcCREs187773\r\n",
      "chr16\t55134890\t55135443\tcCREs193193\r\n",
      "chr3\t140476498\t140477022\tcCREs312343\r\n",
      "chr12\t38001573\t38002102\tcCREs98818\r\n",
      "chr10\t34405265\t34405852\tcCREs46199\r\n",
      "chr2\t41505885\t41506873\tcCREs256056\r\n"
     ]
    }
   ],
   "source": [
    "!head concat_peaks.tsv"
   ]
  },
  {
   "cell_type": "markdown",
   "id": "955e2fa8",
   "metadata": {},
   "source": [
    "### Load data"
   ]
  },
  {
   "cell_type": "code",
   "execution_count": null,
   "id": "c13e636e",
   "metadata": {},
   "outputs": [],
   "source": [
    "scores_path = \"/oak/stanford/groups/akundaje/projects/aav/explain_scores/CLAGL/fold0/split_scores/CLAGL.fold0.explain-all.npy\"\n",
    "scores = np.load(scores_path, allow_pickle = True)"
   ]
  },
  {
   "cell_type": "markdown",
   "id": "b64efe41",
   "metadata": {},
   "source": [
    "### Choose sequence length"
   ]
  },
  {
   "cell_type": "code",
   "execution_count": null,
   "id": "7edf129c",
   "metadata": {},
   "outputs": [],
   "source": [
    "seqlens = np.array([x.shape[0] for x in scores])\n",
    "print(stats.describe(seqlens))"
   ]
  },
  {
   "cell_type": "code",
   "execution_count": null,
   "id": "069b26d2",
   "metadata": {},
   "outputs": [],
   "source": [
    "plt.hist(seqlens, bins=30)\n",
    "plt.show()"
   ]
  },
  {
   "cell_type": "code",
   "execution_count": null,
   "id": "d66c434a",
   "metadata": {},
   "outputs": [],
   "source": [
    "#Almost 96% of the sequence lenghts are less than 1000\n",
    "print(f\"Fraction of sequences shorter than 1000 bp: {np.mean(seqlens<1000)}\")"
   ]
  },
  {
   "cell_type": "code",
   "execution_count": null,
   "id": "d0aa5241",
   "metadata": {},
   "outputs": [],
   "source": [
    "seqlen = 1000"
   ]
  },
  {
   "cell_type": "markdown",
   "id": "de73b7ee",
   "metadata": {},
   "source": [
    "### Crop and Pad"
   ]
  },
  {
   "cell_type": "markdown",
   "id": "de6c066b",
   "metadata": {},
   "source": [
    "Sequences shorter than 1000 bp will be zero-padded and sequences longer than 1000 bp will be cropped."
   ]
  },
  {
   "cell_type": "code",
   "execution_count": null,
   "id": "3442a41e",
   "metadata": {},
   "outputs": [],
   "source": [
    "def crop(arr, seqlen = 1000):\n",
    "    center = len(arr)//2\n",
    "    return arr[center-seqlen//2: center+seqlen//2]\n",
    "\n",
    "def pad(arr, seqlen = 1000):\n",
    "    padlength = (1000-len(arr))//2\n",
    "    return np.pad(arr, padlength)"
   ]
  },
  {
   "cell_type": "markdown",
   "id": "892b87b9",
   "metadata": {},
   "source": [
    "#### Surag script explain scores -> bigwig step by step"
   ]
  },
  {
   "cell_type": "code",
   "execution_count": 1,
   "id": "0931fd1a",
   "metadata": {},
   "outputs": [],
   "source": [
    "scores=\"/oak/stanford/groups/akundaje/projects/aav/explain_scores/CLAGL/fold0/split_scores/CLAGL.fold0.explain-all.npy\"\n",
    "regions=\"/oak/stanford/groups/akundaje/projects/aav/explain_inputs/concat_peaks.tsv\"\n",
    "chrom_sizes=\"/home/groups/akundaje/jelenter/SVM_pipelines/make_inputs/mm10.chrom.sizes\"\n",
    "outfile=\"/oak/stanford/groups/akundaje/projects/aav/explain_scores/CLAGL/fold0/split_scores/CLAGL.fold0.explain-all.bw\""
   ]
  },
  {
   "cell_type": "code",
   "execution_count": 2,
   "id": "75d1d98e",
   "metadata": {},
   "outputs": [],
   "source": [
    "with open(chrom_sizes) as f:\n",
    "    gs = [x.strip().split('\\t') for x in f]\n",
    "gs = [(x[0], int(x[1])) for x in gs]\n",
    "\n",
    "chr_to_idx = {}\n",
    "for i,x in enumerate(gs):\n",
    "    chr_to_idx[x[0]] = i"
   ]
  },
  {
   "cell_type": "code",
   "execution_count": 5,
   "id": "87491c2f",
   "metadata": {},
   "outputs": [],
   "source": [
    "f = np.load(scores, allow_pickle = 1)\n",
    "\n",
    "with open(regions) as r:\n",
    "    regions_dup = [x.strip().split('\\t') for x in r]\n",
    "    \n",
    "regions_dup = [[x[0], int(x[1]), int(x[2])] for x in regions_dup]"
   ]
  },
  {
   "cell_type": "code",
   "execution_count": 6,
   "id": "6b83eff5",
   "metadata": {},
   "outputs": [],
   "source": [
    "regions = []\n",
    "keep_idxs = []\n",
    "for n, i in enumerate(regions_dup):\n",
    "    if i not in regions[:n]:\n",
    "        regions.append(i)\n",
    "        keep_idxs.append(n)\n",
    "f = f[keep_idxs]"
   ]
  },
  {
   "cell_type": "code",
   "execution_count": 7,
   "id": "6d9a56b2",
   "metadata": {},
   "outputs": [],
   "source": [
    "# regions may not be sorted, so get their sorted order\n",
    "order_of_regs = sorted(range(len(regions)), key=lambda x:(chr_to_idx[regions[x][0]], regions[x][1]))\n",
    "\n",
    "# regions may overlap but as we go in sorted order, we will ignore the values that are repeated \n",
    "# and only consider the first instance\n",
    "\n",
    "bw = pyBigWig.open(outfile, 'w')\n",
    "bw.addHeader(gs)\n",
    "\n",
    "all_entries = []\n",
    "cur_chr = \"\"\n",
    "cur_end = 0\n",
    "\n",
    "iterator = order_of_regs"
   ]
  },
  {
   "cell_type": "code",
   "execution_count": null,
   "id": "df28fa99",
   "metadata": {},
   "outputs": [],
   "source": [
    "for i in iterator:\n",
    "    print(i)\n",
    "    \n",
    "    if regions[i][0]!=cur_chr: \n",
    "        cur_chr = regions[i][0]\n",
    "        cur_end = 0\n",
    "\n",
    "    # bring current end to at least start of current region\n",
    "    if cur_end < regions[i][1]:\n",
    "        cur_end = regions[i][1]\n",
    "\n",
    "    #assert(regions[i][2]>=cur_end)\n",
    "\n",
    "    vals = np.sum(f[i], axis=1).astype(np.float64)[cur_end-regions[i][1]:]\n",
    "    print(vals.shape)\n",
    "    bw.addEntries([regions[i][0]]*(regions[i][2]-cur_end), \n",
    "                   list(range(cur_end,regions[i][2])), \n",
    "                   ends = list(range(cur_end+1, regions[i][2]+1)), \n",
    "                   values=list(vals))\n",
    "\n",
    "    all_entries.append(vals)\n",
    "    \n",
    "    cur_end = regions[i][2]+1\n",
    "\n",
    "bw.close()"
   ]
  }
 ],
 "metadata": {
  "kernelspec": {
   "display_name": "Python 3",
   "language": "python",
   "name": "python3"
  },
  "language_info": {
   "codemirror_mode": {
    "name": "ipython",
    "version": 3
   },
   "file_extension": ".py",
   "mimetype": "text/x-python",
   "name": "python",
   "nbconvert_exporter": "python",
   "pygments_lexer": "ipython3",
   "version": "3.7.10"
  }
 },
 "nbformat": 4,
 "nbformat_minor": 5
}
