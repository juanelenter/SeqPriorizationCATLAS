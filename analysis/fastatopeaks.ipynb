{
 "cells": [
  {
   "cell_type": "code",
   "execution_count": 15,
   "id": "17fa6bfa",
   "metadata": {},
   "outputs": [],
   "source": [
    "input_path=\"/oak/stanford/groups/akundaje/projects/aav/explain_inputs/concat_peaks.txt\"\n",
    "output_path=\"/oak/stanford/groups/akundaje/projects/aav/explain_inputs/concat_peaks.tsv\""
   ]
  },
  {
   "cell_type": "code",
   "execution_count": 16,
   "id": "925dd067",
   "metadata": {},
   "outputs": [],
   "source": [
    "import re"
   ]
  },
  {
   "cell_type": "code",
   "execution_count": 17,
   "id": "b4872203",
   "metadata": {},
   "outputs": [],
   "source": [
    "with open(output_path, 'a') as outfile:\n",
    "    for line in open(input_path, \"r\"):\n",
    "        underscores = [m.start() for m in re.finditer('_', line)]\n",
    "        out = line[1:underscores[0]]+ \"\\t\" \\\n",
    "            + line[underscores[0]+1:underscores[1]]+\"\\t\" \\\n",
    "            + line[underscores[1]+1:underscores[2]]+\"\\t\" \\\n",
    "            + line[underscores[2]+1:len(line)]\n",
    "        outfile.write(out)"
   ]
  }
 ],
 "metadata": {
  "kernelspec": {
   "display_name": "Python 3",
   "language": "python",
   "name": "python3"
  },
  "language_info": {
   "codemirror_mode": {
    "name": "ipython",
    "version": 3
   },
   "file_extension": ".py",
   "mimetype": "text/x-python",
   "name": "python",
   "nbconvert_exporter": "python",
   "pygments_lexer": "ipython3",
   "version": "3.7.10"
  }
 },
 "nbformat": 4,
 "nbformat_minor": 5
}
